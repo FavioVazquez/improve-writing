{
 "cells": [
  {
   "cell_type": "code",
   "execution_count": 3,
   "metadata": {},
   "outputs": [
    {
     "name": "stdout",
     "output_type": "stream",
     "text": [
      "Collecting textstat\n",
      "  Using cached https://files.pythonhosted.org/packages/4f/b9/49f8bd4604122dd7d618a1f7440c00e2b3505d2a8307642a28260f8a3004/textstat-0.6.0-py3-none-any.whl\n",
      "Collecting pyphen (from textstat)\n",
      "  Using cached https://files.pythonhosted.org/packages/15/82/08a3629dce8d1f3d91db843bb36d4d7db6b6269d5067259613a0d5c8a9db/Pyphen-0.9.5-py2.py3-none-any.whl\n",
      "Installing collected packages: pyphen, textstat\n",
      "Successfully installed pyphen-0.9.5 textstat-0.6.0\n"
     ]
    }
   ],
   "source": [
    "!pip install textstat"
   ]
  },
  {
   "cell_type": "markdown",
   "metadata": {},
   "source": [
    "# English"
   ]
  },
  {
   "cell_type": "code",
   "execution_count": 1,
   "metadata": {},
   "outputs": [],
   "source": [
    "import textstat"
   ]
  },
  {
   "cell_type": "code",
   "execution_count": 2,
   "metadata": {},
   "outputs": [],
   "source": [
    "textstat.set_lang(\"en\")"
   ]
  },
  {
   "cell_type": "code",
   "execution_count": 3,
   "metadata": {},
   "outputs": [],
   "source": [
    "text = \"\"\"\n",
    "Data science is the main focus of most sciences and studies right now, \n",
    "it needs a lot of things like AI, programming, statistics, \n",
    "business understanding, effective presentation skills and much more. \n",
    "That's why it's not easy to understand or study. But we can do it, we are doing it.\n",
    "Data science has become the standard solving problem framework for academia and \n",
    "the industry and it's going to be like that for a while. But we need to remember \n",
    "where we are coming from, who we are and where we are going.\n",
    "\"\"\""
   ]
  },
  {
   "cell_type": "code",
   "execution_count": 209,
   "metadata": {},
   "outputs": [
    {
     "data": {
      "text/plain": [
       "126"
      ]
     },
     "execution_count": 209,
     "metadata": {},
     "output_type": "execute_result"
    }
   ],
   "source": [
    "# Count Syllables\n",
    "textstat.syllable_count(text)"
   ]
  },
  {
   "cell_type": "code",
   "execution_count": 210,
   "metadata": {},
   "outputs": [
    {
     "data": {
      "text/plain": [
       "91"
      ]
     },
     "execution_count": 210,
     "metadata": {},
     "output_type": "execute_result"
    }
   ],
   "source": [
    "# Lexicon count\n",
    "textstat.lexicon_count(text, removepunct=True)"
   ]
  },
  {
   "cell_type": "code",
   "execution_count": 211,
   "metadata": {},
   "outputs": [
    {
     "data": {
      "text/plain": [
       "4"
      ]
     },
     "execution_count": 211,
     "metadata": {},
     "output_type": "execute_result"
    }
   ],
   "source": [
    "# Sentence count\n",
    "textstat.sentence_count(text)"
   ]
  },
  {
   "cell_type": "code",
   "execution_count": 212,
   "metadata": {},
   "outputs": [
    {
     "data": {
      "text/plain": [
       "65.25"
      ]
     },
     "execution_count": 212,
     "metadata": {},
     "output_type": "execute_result"
    }
   ],
   "source": [
    "# Flesch Reading Ease formula\n",
    "textstat.flesch_reading_ease(text)"
   ]
  },
  {
   "cell_type": "markdown",
   "metadata": {},
   "source": [
    "Around 65 means this text has a \"standard\" difficuly to be read."
   ]
  },
  {
   "cell_type": "code",
   "execution_count": 213,
   "metadata": {},
   "outputs": [
    {
     "data": {
      "text/plain": [
       "9.8"
      ]
     },
     "execution_count": 213,
     "metadata": {},
     "output_type": "execute_result"
    }
   ],
   "source": [
    "# Flesch-Kincaid Grade Level\n",
    "textstat.flesch_kincaid_grade(text)"
   ]
  },
  {
   "cell_type": "markdown",
   "metadata": {},
   "source": [
    "This means the text is very difficult to read. Best understood by university graduates. Which seems fine."
   ]
  },
  {
   "cell_type": "code",
   "execution_count": 214,
   "metadata": {},
   "outputs": [
    {
     "data": {
      "text/plain": [
       "11.76"
      ]
     },
     "execution_count": 214,
     "metadata": {},
     "output_type": "execute_result"
    }
   ],
   "source": [
    "# Fog Scale (Gunning FOG Formula)\n",
    "textstat.gunning_fog(text)"
   ]
  },
  {
   "cell_type": "markdown",
   "metadata": {},
   "source": [
    "Meaning that a High school junior can read this."
   ]
  },
  {
   "cell_type": "code",
   "execution_count": 215,
   "metadata": {},
   "outputs": [
    {
     "data": {
      "text/plain": [
       "11.2"
      ]
     },
     "execution_count": 215,
     "metadata": {},
     "output_type": "execute_result"
    }
   ],
   "source": [
    "# SMOG Index # Similar to FOG\n",
    "textstat.smog_index(text)"
   ]
  },
  {
   "cell_type": "code",
   "execution_count": 216,
   "metadata": {},
   "outputs": [
    {
     "data": {
      "text/plain": [
       "11.8"
      ]
     },
     "execution_count": 216,
     "metadata": {},
     "output_type": "execute_result"
    }
   ],
   "source": [
    "# Automated Readability Index\n",
    "textstat.automated_readability_index(text)"
   ]
  },
  {
   "cell_type": "markdown",
   "metadata": {},
   "source": [
    "Meaning that a Eleventh Grade student can read it."
   ]
  },
  {
   "cell_type": "code",
   "execution_count": 217,
   "metadata": {},
   "outputs": [
    {
     "data": {
      "text/plain": [
       "8.94"
      ]
     },
     "execution_count": 217,
     "metadata": {},
     "output_type": "execute_result"
    }
   ],
   "source": [
    "# Coleman-Liau Index\n",
    "textstat.coleman_liau_index(text)"
   ]
  },
  {
   "cell_type": "code",
   "execution_count": 218,
   "metadata": {},
   "outputs": [
    {
     "data": {
      "text/plain": [
       "10.7"
      ]
     },
     "execution_count": 218,
     "metadata": {},
     "output_type": "execute_result"
    }
   ],
   "source": [
    "# Linsear Write Formula\n",
    "textstat.linsear_write_formula(text)"
   ]
  },
  {
   "cell_type": "code",
   "execution_count": 219,
   "metadata": {},
   "outputs": [
    {
     "data": {
      "text/plain": [
       "7.54"
      ]
     },
     "execution_count": 219,
     "metadata": {},
     "output_type": "execute_result"
    }
   ],
   "source": [
    "# Dale-Chall Readability Score\n",
    "textstat.dale_chall_readability_score(text)"
   ]
  },
  {
   "cell_type": "markdown",
   "metadata": {},
   "source": [
    "Meaning that an average 9th or 10th-grade student can read it."
   ]
  },
  {
   "cell_type": "code",
   "execution_count": 220,
   "metadata": {},
   "outputs": [
    {
     "data": {
      "text/plain": [
       "'11th and 12th grade'"
      ]
     },
     "execution_count": 220,
     "metadata": {},
     "output_type": "execute_result"
    }
   ],
   "source": [
    "# Readability Consensus\n",
    "textstat.text_standard(text, float_output=False)"
   ]
  },
  {
   "cell_type": "markdown",
   "metadata": {},
   "source": [
    "Meaning that in general someone that has finished 11th or 12th grade could understand this piece."
   ]
  },
  {
   "cell_type": "code",
   "execution_count": 221,
   "metadata": {},
   "outputs": [
    {
     "data": {
      "text/plain": [
       "6.08"
      ]
     },
     "execution_count": 221,
     "metadata": {},
     "output_type": "execute_result"
    }
   ],
   "source": [
    "# Time to read the text in seconds\n",
    "textstat.reading_time(text)"
   ]
  },
  {
   "cell_type": "code",
   "execution_count": 4,
   "metadata": {},
   "outputs": [],
   "source": [
    "# Run all at once\n",
    "import inspect\n",
    "funcs = [\"textstat.\" + inspect.getmembers(textstat, predicate=inspect.ismethod)[i][0] for i in range(1,28)]"
   ]
  },
  {
   "cell_type": "code",
   "execution_count": 5,
   "metadata": {},
   "outputs": [
    {
     "name": "stdout",
     "output_type": "stream",
     "text": [
      "avg_character_per_word\n",
      "4.64\n",
      " \n",
      "avg_letter_per_word\n",
      "4.47\n",
      " \n",
      "avg_sentence_length\n",
      "22.8\n",
      " \n",
      "avg_sentence_per_word\n",
      "0.04\n",
      " \n",
      "avg_syllables_per_word\n",
      "1.4\n",
      " \n",
      "char_count\n",
      "422\n",
      " \n",
      "coleman_liau_index\n",
      "8.94\n",
      " \n",
      "dale_chall_readability_score\n",
      "7.54\n",
      " \n",
      "dale_chall_readability_score_v2\n",
      "7.54\n",
      " \n",
      "difficult_words\n",
      "16\n",
      " \n",
      "difficult_words_list\n",
      "['focus', 'standard', 'problem', 'industry', 'science', 'data', 'programming', 'understanding', 'presentation', 'doing', 'solving', 'effective', 'studies', 'statistics', 'sciences', 'framework']\n",
      " \n",
      "flesch_kincaid_grade\n",
      "9.8\n",
      " \n",
      "flesch_reading_ease\n",
      "65.25\n",
      " \n",
      "gunning_fog\n",
      "11.76\n",
      " \n",
      "letter_count\n",
      "407\n",
      " \n",
      "lexicon_count\n",
      "91\n",
      " \n",
      "linsear_write_formula\n",
      "10.7\n",
      " \n",
      "lix\n",
      "42.58\n",
      " \n",
      "polysyllabcount\n",
      "8\n",
      " \n",
      "reading_time\n",
      "6.08\n",
      " \n",
      "rix\n",
      "4.5\n",
      " \n",
      "sentence_count\n",
      "4\n",
      " \n",
      "set_lang\n",
      "None\n",
      " \n",
      "smog_index\n",
      "11.2\n",
      " \n",
      "spache_readability\n",
      "5.5588379120879114\n",
      " \n",
      "syllable_count\n",
      "126\n",
      " \n",
      "text_standard\n",
      "11th and 12th grade\n",
      " \n"
     ]
    }
   ],
   "source": [
    "for elem in funcs:\n",
    "    method = eval(elem)\n",
    "    textstat.set_lang(\"en\")\n",
    "    print(elem.split(\".\")[1])\n",
    "    print(method(text))\n",
    "    print(\" \")"
   ]
  },
  {
   "cell_type": "markdown",
   "metadata": {},
   "source": [
    "# Spanish - Español"
   ]
  },
  {
   "cell_type": "code",
   "execution_count": 24,
   "metadata": {},
   "outputs": [],
   "source": [
    "text = \"\"\"\n",
    "La ciencia de datos es el foco principal de la mayoría de las ciencias y estudios en este momento, \n",
    "necesita muchas cosas como inteligencia artificial, programación, estadísticas, \n",
    "comprensión del negocio, habilidades de presentación efectivas y mucho más. \n",
    "Por eso no es fácil de entender o estudiar. Pero podemos hacerlo, lo estamos haciendo.\n",
    "La ciencia de datos se ha convertido en el marco de resolución de \n",
    "problemas estándar para la academia y la industria y va a ser así \n",
    "por un tiempo. Pero debemos recordar de dónde venimos, \n",
    "quiénes somos y hacia dónde vamos.\n",
    "\"\"\""
   ]
  },
  {
   "cell_type": "code",
   "execution_count": 25,
   "metadata": {},
   "outputs": [],
   "source": [
    "textstat.set_lang(\"es\")"
   ]
  },
  {
   "cell_type": "markdown",
   "metadata": {},
   "source": [
    "## Note: The only readibility function implemented is the Fernandez Huerta Readability Formula which is a variant of the Flesch Reading Ease formula"
   ]
  },
  {
   "cell_type": "code",
   "execution_count": 26,
   "metadata": {},
   "outputs": [
    {
     "data": {
      "text/plain": [
       "61.75"
      ]
     },
     "execution_count": 26,
     "metadata": {},
     "output_type": "execute_result"
    }
   ],
   "source": [
    "textstat.flesch_reading_ease(text)"
   ]
  },
  {
   "cell_type": "code",
   "execution_count": 27,
   "metadata": {},
   "outputs": [
    {
     "data": {
      "text/plain": [
       "6.92"
      ]
     },
     "execution_count": 27,
     "metadata": {},
     "output_type": "execute_result"
    }
   ],
   "source": [
    "# Time to read the text in seconds\n",
    "textstat.reading_time(text)"
   ]
  },
  {
   "cell_type": "code",
   "execution_count": 29,
   "metadata": {},
   "outputs": [
    {
     "data": {
      "text/plain": [
       "['efectivas',\n",
       " 'necesita',\n",
       " 'estudiar',\n",
       " 'estadísticas',\n",
       " 'muchas',\n",
       " 'entender',\n",
       " 'somos',\n",
       " 'para',\n",
       " 'hacia',\n",
       " 'inteligencia',\n",
       " 'estudios',\n",
       " 'problemas',\n",
       " 'foco',\n",
       " 'industria',\n",
       " 'habilidades',\n",
       " 'este',\n",
       " 'pero',\n",
       " 'datos',\n",
       " 'principal',\n",
       " 'hacerlo',\n",
       " 'vamos',\n",
       " 'resolución',\n",
       " 'mayoría',\n",
       " 'programación',\n",
       " 'academia',\n",
       " 'como',\n",
       " 'comprensión',\n",
       " 'haciendo',\n",
       " 'debemos',\n",
       " 'quiénes',\n",
       " 'convertido',\n",
       " 'recordar',\n",
       " 'cosas',\n",
       " 'dónde',\n",
       " 'marco',\n",
       " 'mucho',\n",
       " 'ciencias',\n",
       " 'podemos',\n",
       " 'presentación',\n",
       " 'ciencia',\n",
       " 'venimos',\n",
       " 'tiempo',\n",
       " 'estamos',\n",
       " 'artificial',\n",
       " 'negocio',\n",
       " 'estándar',\n",
       " 'fácil',\n",
       " 'momento']"
      ]
     },
     "execution_count": 29,
     "metadata": {},
     "output_type": "execute_result"
    }
   ],
   "source": [
    "# This works so-so in Spanish\n",
    "textstat.difficult_words_list(text)"
   ]
  }
 ],
 "metadata": {
  "kernelspec": {
   "display_name": "Python 3",
   "language": "python",
   "name": "python3"
  },
  "language_info": {
   "codemirror_mode": {
    "name": "ipython",
    "version": 3
   },
   "file_extension": ".py",
   "mimetype": "text/x-python",
   "name": "python",
   "nbconvert_exporter": "python",
   "pygments_lexer": "ipython3",
   "version": "3.7.3"
  }
 },
 "nbformat": 4,
 "nbformat_minor": 4
}
